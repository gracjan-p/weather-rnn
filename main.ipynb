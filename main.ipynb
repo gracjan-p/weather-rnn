{
 "cells": [
  {
   "metadata": {},
   "cell_type": "markdown",
   "source": "#### data",
   "id": "f6676f7817f4eef5"
  },
  {
   "cell_type": "code",
   "id": "initial_id",
   "metadata": {
    "collapsed": true,
    "ExecuteTime": {
     "end_time": "2025-03-02T19:57:48.055296Z",
     "start_time": "2025-03-02T19:57:47.875060Z"
    }
   },
   "source": "import polars as pl",
   "outputs": [],
   "execution_count": 1
  },
  {
   "metadata": {
    "ExecuteTime": {
     "end_time": "2025-03-02T19:58:29.475979Z",
     "start_time": "2025-03-02T19:58:29.460069Z"
    }
   },
   "cell_type": "code",
   "source": [
    "df = pl.read_csv('seattle-weather.csv')\n",
    "df"
   ],
   "id": "e8c4d9b7e5bfddd5",
   "outputs": [
    {
     "data": {
      "text/plain": [
       "shape: (1_461, 6)\n",
       "┌────────────┬───────────────┬──────────┬──────────┬──────┬─────────┐\n",
       "│ date       ┆ precipitation ┆ temp_max ┆ temp_min ┆ wind ┆ weather │\n",
       "│ ---        ┆ ---           ┆ ---      ┆ ---      ┆ ---  ┆ ---     │\n",
       "│ str        ┆ f64           ┆ f64      ┆ f64      ┆ f64  ┆ str     │\n",
       "╞════════════╪═══════════════╪══════════╪══════════╪══════╪═════════╡\n",
       "│ 2012-01-01 ┆ 0.0           ┆ 12.8     ┆ 5.0      ┆ 4.7  ┆ drizzle │\n",
       "│ 2012-01-02 ┆ 10.9          ┆ 10.6     ┆ 2.8      ┆ 4.5  ┆ rain    │\n",
       "│ 2012-01-03 ┆ 0.8           ┆ 11.7     ┆ 7.2      ┆ 2.3  ┆ rain    │\n",
       "│ 2012-01-04 ┆ 20.3          ┆ 12.2     ┆ 5.6      ┆ 4.7  ┆ rain    │\n",
       "│ 2012-01-05 ┆ 1.3           ┆ 8.9      ┆ 2.8      ┆ 6.1  ┆ rain    │\n",
       "│ …          ┆ …             ┆ …        ┆ …        ┆ …    ┆ …       │\n",
       "│ 2015-12-27 ┆ 8.6           ┆ 4.4      ┆ 1.7      ┆ 2.9  ┆ rain    │\n",
       "│ 2015-12-28 ┆ 1.5           ┆ 5.0      ┆ 1.7      ┆ 1.3  ┆ rain    │\n",
       "│ 2015-12-29 ┆ 0.0           ┆ 7.2      ┆ 0.6      ┆ 2.6  ┆ fog     │\n",
       "│ 2015-12-30 ┆ 0.0           ┆ 5.6      ┆ -1.0     ┆ 3.4  ┆ sun     │\n",
       "│ 2015-12-31 ┆ 0.0           ┆ 5.6      ┆ -2.1     ┆ 3.5  ┆ sun     │\n",
       "└────────────┴───────────────┴──────────┴──────────┴──────┴─────────┘"
      ],
      "text/html": [
       "<div><style>\n",
       ".dataframe > thead > tr,\n",
       ".dataframe > tbody > tr {\n",
       "  text-align: right;\n",
       "  white-space: pre-wrap;\n",
       "}\n",
       "</style>\n",
       "<small>shape: (1_461, 6)</small><table border=\"1\" class=\"dataframe\"><thead><tr><th>date</th><th>precipitation</th><th>temp_max</th><th>temp_min</th><th>wind</th><th>weather</th></tr><tr><td>str</td><td>f64</td><td>f64</td><td>f64</td><td>f64</td><td>str</td></tr></thead><tbody><tr><td>&quot;2012-01-01&quot;</td><td>0.0</td><td>12.8</td><td>5.0</td><td>4.7</td><td>&quot;drizzle&quot;</td></tr><tr><td>&quot;2012-01-02&quot;</td><td>10.9</td><td>10.6</td><td>2.8</td><td>4.5</td><td>&quot;rain&quot;</td></tr><tr><td>&quot;2012-01-03&quot;</td><td>0.8</td><td>11.7</td><td>7.2</td><td>2.3</td><td>&quot;rain&quot;</td></tr><tr><td>&quot;2012-01-04&quot;</td><td>20.3</td><td>12.2</td><td>5.6</td><td>4.7</td><td>&quot;rain&quot;</td></tr><tr><td>&quot;2012-01-05&quot;</td><td>1.3</td><td>8.9</td><td>2.8</td><td>6.1</td><td>&quot;rain&quot;</td></tr><tr><td>&hellip;</td><td>&hellip;</td><td>&hellip;</td><td>&hellip;</td><td>&hellip;</td><td>&hellip;</td></tr><tr><td>&quot;2015-12-27&quot;</td><td>8.6</td><td>4.4</td><td>1.7</td><td>2.9</td><td>&quot;rain&quot;</td></tr><tr><td>&quot;2015-12-28&quot;</td><td>1.5</td><td>5.0</td><td>1.7</td><td>1.3</td><td>&quot;rain&quot;</td></tr><tr><td>&quot;2015-12-29&quot;</td><td>0.0</td><td>7.2</td><td>0.6</td><td>2.6</td><td>&quot;fog&quot;</td></tr><tr><td>&quot;2015-12-30&quot;</td><td>0.0</td><td>5.6</td><td>-1.0</td><td>3.4</td><td>&quot;sun&quot;</td></tr><tr><td>&quot;2015-12-31&quot;</td><td>0.0</td><td>5.6</td><td>-2.1</td><td>3.5</td><td>&quot;sun&quot;</td></tr></tbody></table></div>"
      ]
     },
     "execution_count": 3,
     "metadata": {},
     "output_type": "execute_result"
    }
   ],
   "execution_count": 3
  },
  {
   "metadata": {
    "ExecuteTime": {
     "end_time": "2025-03-02T19:58:54.169936Z",
     "start_time": "2025-03-02T19:58:54.153539Z"
    }
   },
   "cell_type": "code",
   "source": "",
   "id": "bd97fbebffe293ef",
   "outputs": [
    {
     "ename": "AttributeError",
     "evalue": "'DataFrame' object has no attribute 'info'",
     "output_type": "error",
     "traceback": [
      "\u001B[1;31m---------------------------------------------------------------------------\u001B[0m",
      "\u001B[1;31mAttributeError\u001B[0m                            Traceback (most recent call last)",
      "Cell \u001B[1;32mIn[5], line 1\u001B[0m\n\u001B[1;32m----> 1\u001B[0m \u001B[43mdf\u001B[49m\u001B[38;5;241;43m.\u001B[39;49m\u001B[43minfo\u001B[49m()\n",
      "\u001B[1;31mAttributeError\u001B[0m: 'DataFrame' object has no attribute 'info'"
     ]
    }
   ],
   "execution_count": 5
  }
 ],
 "metadata": {
  "kernelspec": {
   "display_name": "Python 3",
   "language": "python",
   "name": "python3"
  },
  "language_info": {
   "codemirror_mode": {
    "name": "ipython",
    "version": 2
   },
   "file_extension": ".py",
   "mimetype": "text/x-python",
   "name": "python",
   "nbconvert_exporter": "python",
   "pygments_lexer": "ipython2",
   "version": "2.7.6"
  }
 },
 "nbformat": 4,
 "nbformat_minor": 5
}
